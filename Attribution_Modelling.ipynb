{
  "nbformat": 4,
  "nbformat_minor": 0,
  "metadata": {
    "colab": {
      "name": "Attribution Modelling.ipynb",
      "provenance": [],
      "collapsed_sections": [],
      "authorship_tag": "ABX9TyOQlgCCg94Z6sA+mu38IHM2",
      "include_colab_link": true
    },
    "kernelspec": {
      "name": "python3",
      "display_name": "Python 3"
    }
  },
  "cells": [
    {
      "cell_type": "markdown",
      "metadata": {
        "id": "view-in-github",
        "colab_type": "text"
      },
      "source": [
        "<a href=\"https://colab.research.google.com/github/usamabaig1/Attribution_Modeling/blob/attributionModeller/Attribution_Modelling.ipynb\" target=\"_parent\"><img src=\"https://colab.research.google.com/assets/colab-badge.svg\" alt=\"Open In Colab\"/></a>"
      ]
    },
    {
      "cell_type": "code",
      "metadata": {
        "colab": {
          "base_uri": "https://localhost:8080/"
        },
        "id": "FH4NakHexGjt",
        "outputId": "d5e39285-ef9f-46f4-b37e-32b129725607"
      },
      "source": [
        "!pip install torch"
      ],
      "execution_count": 1,
      "outputs": [
        {
          "output_type": "stream",
          "text": [
            "Requirement already satisfied: torch in /usr/local/lib/python3.6/dist-packages (1.7.0+cu101)\n",
            "Requirement already satisfied: numpy in /usr/local/lib/python3.6/dist-packages (from torch) (1.18.5)\n",
            "Requirement already satisfied: future in /usr/local/lib/python3.6/dist-packages (from torch) (0.16.0)\n",
            "Requirement already satisfied: typing-extensions in /usr/local/lib/python3.6/dist-packages (from torch) (3.7.4.3)\n",
            "Requirement already satisfied: dataclasses in /usr/local/lib/python3.6/dist-packages (from torch) (0.7)\n"
          ],
          "name": "stdout"
        }
      ]
    },
    {
      "cell_type": "code",
      "metadata": {
        "id": "sdrFs5SNxJsl"
      },
      "source": [
        "import torch\n",
        "import torch.nn as nn\n",
        "import math"
      ],
      "execution_count": 22,
      "outputs": []
    },
    {
      "cell_type": "code",
      "metadata": {
        "colab": {
          "base_uri": "https://localhost:8080/"
        },
        "id": "JLpmWLCe-j_r",
        "outputId": "228a495d-89eb-43ed-f9a0-043ff4d139f9"
      },
      "source": [
        "target = torch.randn(1, 5)\n",
        "target\n",
        "nn.Linear( 2)"
      ],
      "execution_count": 29,
      "outputs": [
        {
          "output_type": "execute_result",
          "data": {
            "text/plain": [
              "tensor([[-1.1169, -0.5487,  1.2370, -1.4270,  0.6613]])"
            ]
          },
          "metadata": {
            "tags": []
          },
          "execution_count": 29
        }
      ]
    },
    {
      "cell_type": "code",
      "metadata": {
        "id": "RAASbRJd78IV"
      },
      "source": [
        ""
      ],
      "execution_count": null,
      "outputs": []
    },
    {
      "cell_type": "code",
      "metadata": {
        "colab": {
          "base_uri": "https://localhost:8080/",
          "height": 238
        },
        "id": "LkCkfI_70e41",
        "outputId": "e1a2106d-ebe1-4514-c9e9-f94ee7dd8a47"
      },
      "source": [
        "def my_loss(output, target):\n",
        "    loss = torch.mean((output - target)**2)\n",
        "    return loss\n",
        "\n",
        "model = nn.Linear(2, 2)\n",
        "x = torch.randn(1, 2)\n",
        "target = torch.randn(1, 2)\n",
        "print (target)\n",
        "\n",
        "for i in range(0,100):\n",
        "  output = model(x)\n",
        "  loss = my_loss(output, target)\n",
        "  loss.backward()\n",
        "  print(model.weight.grad)\n",
        "  print(output)\n",
        "  print(\"\"\"------------------\"\"\")"
      ],
      "execution_count": 19,
      "outputs": [
        {
          "output_type": "error",
          "ename": "TypeError",
          "evalue": "ignored",
          "traceback": [
            "\u001b[0;31m---------------------------------------------------------------------------\u001b[0m",
            "\u001b[0;31mTypeError\u001b[0m                                 Traceback (most recent call last)",
            "\u001b[0;32m<ipython-input-19-61ef298c5981>\u001b[0m in \u001b[0;36m<module>\u001b[0;34m()\u001b[0m\n\u001b[1;32m      3\u001b[0m     \u001b[0;32mreturn\u001b[0m \u001b[0mloss\u001b[0m\u001b[0;34m\u001b[0m\u001b[0;34m\u001b[0m\u001b[0m\n\u001b[1;32m      4\u001b[0m \u001b[0;34m\u001b[0m\u001b[0m\n\u001b[0;32m----> 5\u001b[0;31m \u001b[0mmodel\u001b[0m \u001b[0;34m=\u001b[0m \u001b[0mtorch\u001b[0m\u001b[0;34m.\u001b[0m\u001b[0mexp\u001b[0m\u001b[0;34m(\u001b[0m\u001b[0;36m2\u001b[0m\u001b[0;34m,\u001b[0m \u001b[0;36m2\u001b[0m\u001b[0;34m)\u001b[0m\u001b[0;34m\u001b[0m\u001b[0;34m\u001b[0m\u001b[0m\n\u001b[0m\u001b[1;32m      6\u001b[0m \u001b[0mx\u001b[0m \u001b[0;34m=\u001b[0m \u001b[0mtorch\u001b[0m\u001b[0;34m.\u001b[0m\u001b[0mrandn\u001b[0m\u001b[0;34m(\u001b[0m\u001b[0;36m1\u001b[0m\u001b[0;34m,\u001b[0m \u001b[0;36m2\u001b[0m\u001b[0;34m)\u001b[0m\u001b[0;34m\u001b[0m\u001b[0;34m\u001b[0m\u001b[0m\n\u001b[1;32m      7\u001b[0m \u001b[0mtarget\u001b[0m \u001b[0;34m=\u001b[0m \u001b[0mtorch\u001b[0m\u001b[0;34m.\u001b[0m\u001b[0mrandn\u001b[0m\u001b[0;34m(\u001b[0m\u001b[0;36m1\u001b[0m\u001b[0;34m,\u001b[0m \u001b[0;36m2\u001b[0m\u001b[0;34m)\u001b[0m\u001b[0;34m\u001b[0m\u001b[0;34m\u001b[0m\u001b[0m\n",
            "\u001b[0;31mTypeError\u001b[0m: exp() takes 1 positional argument but 2 were given"
          ]
        }
      ]
    },
    {
      "cell_type": "code",
      "metadata": {
        "colab": {
          "base_uri": "https://localhost:8080/"
        },
        "id": "H8-waoR4xb3r",
        "outputId": "c354881b-7730-4c79-8233-19ae10df0d47"
      },
      "source": [
        "linear = nn.Linear(32,32)\n",
        "linear.eval()\n",
        "N = 10000\n",
        "X = torch.Tensor(N,32)\n",
        "X\n",
        "X.uniform_(0.,1.) # fill with uniform\n",
        "eps = torch.Tensor(N,32)\n",
        "eps.normal_(0., 1e-4)"
      ],
      "execution_count": 7,
      "outputs": [
        {
          "output_type": "execute_result",
          "data": {
            "text/plain": [
              "tensor([[ 3.2677e-04, -8.5151e-05,  8.8565e-05,  ...,  1.8070e-05,\n",
              "         -1.3338e-04,  1.0421e-04],\n",
              "        [ 6.6139e-05, -6.7598e-05,  1.2029e-04,  ..., -4.9602e-05,\n",
              "         -1.0679e-04, -1.4397e-05],\n",
              "        [-1.6079e-06,  4.5771e-05,  9.1935e-06,  ..., -5.7660e-05,\n",
              "          4.2277e-05, -1.2497e-04],\n",
              "        ...,\n",
              "        [ 1.0018e-04,  8.6189e-05,  9.1666e-05,  ...,  1.4094e-04,\n",
              "         -6.0664e-06, -5.1858e-05],\n",
              "        [-6.6125e-05, -2.0828e-05, -1.2292e-04,  ..., -1.0999e-05,\n",
              "         -1.0814e-04, -2.2227e-05],\n",
              "        [-8.3657e-05, -1.0671e-04, -8.0610e-05,  ...,  3.6681e-05,\n",
              "         -7.1518e-05, -6.3484e-05]])"
            ]
          },
          "metadata": {
            "tags": []
          },
          "execution_count": 7
        }
      ]
    },
    {
      "cell_type": "code",
      "metadata": {
        "colab": {
          "base_uri": "https://localhost:8080/"
        },
        "id": "rk-xQysFz5BN",
        "outputId": "76c56b75-f647-404f-a96f-d175c00a90d9"
      },
      "source": [
        "torch.randn(3, 2)\n"
      ],
      "execution_count": 10,
      "outputs": [
        {
          "output_type": "execute_result",
          "data": {
            "text/plain": [
              "tensor([[ 0.1750,  0.1834],\n",
              "        [-0.9367,  0.0185],\n",
              "        [ 0.6374, -0.1721]])"
            ]
          },
          "metadata": {
            "tags": []
          },
          "execution_count": 10
        }
      ]
    },
    {
      "cell_type": "code",
      "metadata": {
        "id": "8oF6tvrpxUzn"
      },
      "source": [
        "linear = nn.Linear(32,32)\n",
        "linear = linear.eval()\n",
        "\n",
        "# input X\n",
        "N = 10000\n",
        "X = torch.Tensor(N,32)\n",
        "X.uniform_(0.,1.) # fill with uniform\n",
        "eps = torch.Tensor(N,32)\n",
        "eps.normal_(0., 1e-4)\n",
        "\n",
        "# output Y\n",
        "with torch.no_grad():\n",
        "    Y = linear(X) #+ eps\n",
        "\n",
        "# make module executing the experiment\n",
        "class Objective(nn.Module):\n",
        "    def __init__(self):\n",
        "        super(Objective, self).__init__()\n",
        "        self.linear = nn.Linear(32,32)\n",
        "        self.linear = self.linear.train()\n",
        "        self.X, self.Y = X, Y\n",
        "\n",
        "    def forward(self):\n",
        "        output = self.linear(self.X)\n",
        "        return F.mse_loss(output, self.Y).mean()\n",
        "\n",
        "objective = Objective()\n",
        "\n",
        "maxiter = 100\n",
        "with tqdm(total=maxiter) as pbar:\n",
        "    def verbose(xk):\n",
        "        pbar.update(1)\n",
        "    # try to optimize that function with scipy\n",
        "    obj = PyTorchObjective(objective)\n",
        "    xL = optimize.minimize(obj.fun, obj.x0, method='BFGS', jac=obj.jac,\n",
        "            callback=verbose, options={'gtol': 1e-6, 'disp': True,\n",
        "                'maxiter':maxiter})\n",
        "    #xL = optimize.minimize(obj.fun, obj.x0, method='CG', jac=obj.jac)# , options={'gtol': 1e-2})"
      ],
      "execution_count": null,
      "outputs": []
    }
  ]
}