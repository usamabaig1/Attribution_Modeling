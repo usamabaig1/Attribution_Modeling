{
  "nbformat": 4,
  "nbformat_minor": 0,
  "metadata": {
    "colab": {
      "name": "Attribution Modelling.ipynb",
      "provenance": [],
      "collapsed_sections": [
        "7OyKztJFe7xS"
      ],
      "authorship_tag": "ABX9TyNI9wr2ti2KnKn2xU5BhXQT",
      "include_colab_link": true
    },
    "kernelspec": {
      "name": "python3",
      "display_name": "Python 3"
    }
  },
  "cells": [
    {
      "cell_type": "markdown",
      "metadata": {
        "id": "view-in-github",
        "colab_type": "text"
      },
      "source": [
        "<a href=\"https://colab.research.google.com/github/usamabaig1/Attribution_Modeling/blob/attributionModeller/Attribution_Modelling.ipynb\" target=\"_parent\"><img src=\"https://colab.research.google.com/assets/colab-badge.svg\" alt=\"Open In Colab\"/></a>"
      ]
    },
    {
      "cell_type": "code",
      "metadata": {
        "colab": {
          "base_uri": "https://localhost:8080/"
        },
        "id": "LnLCd0EoeaA2",
        "outputId": "0c2607e0-c5fc-4a93-a097-5c4077e4db2a"
      },
      "source": [
        "from google.colab import drive\n",
        "drive.mount('/gdrive')\n",
        "# %cd /gdrive/MyDrive/Criteo"
      ],
      "execution_count": 1,
      "outputs": [
        {
          "output_type": "stream",
          "text": [
            "Drive already mounted at /gdrive; to attempt to forcibly remount, call drive.mount(\"/gdrive\", force_remount=True).\n"
          ],
          "name": "stdout"
        }
      ]
    },
    {
      "cell_type": "code",
      "metadata": {
        "colab": {
          "base_uri": "https://localhost:8080/",
          "height": 35
        },
        "id": "FH4NakHexGjt",
        "outputId": "7e00d6f6-15d0-490d-e01c-c24e6c261307"
      },
      "source": [
        "import shutil, sys                                                                                                                                                    \n",
        "# shutil.copy( '/gdrive/My Drive/Criteo/criteo_attribution_dataset300Camps.tsv', '/content/')\n",
        "shutil.copy( '/gdrive/My Drive/Criteo/criteo_attribution_dataset.tsv', '/content/')\n",
        "# !cp -r 'criteo_attribution_dataset300Camps.tsv' ."
      ],
      "execution_count": 2,
      "outputs": [
        {
          "output_type": "execute_result",
          "data": {
            "application/vnd.google.colaboratory.intrinsic+json": {
              "type": "string"
            },
            "text/plain": [
              "'/content/criteo_attribution_dataset.tsv'"
            ]
          },
          "metadata": {
            "tags": []
          },
          "execution_count": 2
        }
      ]
    },
    {
      "cell_type": "code",
      "metadata": {
        "id": "sdrFs5SNxJsl",
        "colab": {
          "base_uri": "https://localhost:8080/"
        },
        "outputId": "a99d467b-ec66-4a6f-fb37-597c764724b8"
      },
      "source": [
        "%pylab inline\n",
        "import pandas as pd\n",
        "plt.style.use('ggplot')\n",
        "from scipy.optimize import minimize\n",
        "from IPython.core.debugger import set_trace"
      ],
      "execution_count": 3,
      "outputs": [
        {
          "output_type": "stream",
          "text": [
            "Populating the interactive namespace from numpy and matplotlib\n"
          ],
          "name": "stdout"
        }
      ]
    },
    {
      "cell_type": "code",
      "metadata": {
        "id": "MGP4ngdCejsc"
      },
      "source": [
        "import torch\n",
        "import torch.nn as nn\n",
        "from torch.autograd import Variable\n",
        "from torch.nn import functional as F"
      ],
      "execution_count": 4,
      "outputs": []
    },
    {
      "cell_type": "code",
      "metadata": {
        "id": "B60ts5nFewGp"
      },
      "source": [
        "# DATA_FILE='criteo_attribution_dataset.tsv.gz'\n",
        "# df = pd.read_csv(DATA_FILE, sep='\\t', compression='gzip')\n",
        "\n",
        "DATA_FILE='criteo_attribution_dataset.tsv'\n",
        "# DATA_FILE='criteo_attribution_dataset300Camps.tsv'\n",
        "df = pd.read_csv(DATA_FILE, sep='\\t')"
      ],
      "execution_count": 5,
      "outputs": []
    },
    {
      "cell_type": "code",
      "metadata": {
        "colab": {
          "base_uri": "https://localhost:8080/"
        },
        "id": "pc2NTR4pfht_",
        "outputId": "390a5378-19fd-4c4b-d384-20858934e8f2"
      },
      "source": [
        "# filteredCampaigns = df['campaign'].unique()[0:300] #selecting only 300 campaigns out of 675 (12515351 out of 16468027)\n",
        "# df = df[df['campaign'].isin(filteredCampaigns)]\n",
        "# df.to_csv('criteo_attribution_dataset300Camps.tsv', sep = '\\t')\n",
        "df.shape\n",
        "# !ls"
      ],
      "execution_count": 6,
      "outputs": [
        {
          "output_type": "execute_result",
          "data": {
            "text/plain": [
              "(16468027, 22)"
            ]
          },
          "metadata": {
            "tags": []
          },
          "execution_count": 6
        }
      ]
    },
    {
      "cell_type": "markdown",
      "metadata": {
        "id": "qpDcouYufuie"
      },
      "source": [
        "Here is a detailed description of the fields (they are tab-separated in the file):\n",
        "\n",
        "  * **timestamp**: timestamp of the impression (starting from 0 for the first impression). The dataset is sorted according to timestamp.\n",
        "  *  **uid** a unique user identifier\n",
        "  * **campaign** a unique identifier for the campaign\n",
        "  * **conversion** 1 if there was a conversion in the 30 days after the impression (independently of whether this impression was last click or not)\n",
        "  * **conversion_timestamp** the timestamp of the conversion or -1 if no conversion was observed\n",
        "  *\t**conversion_id**\ta unique identifier for each conversion (so that timelines can be reconstructed if needed). -1 if there was no conversion\n",
        "  * **attribution** 1 if the conversion was attributed to Criteo, 0 otherwise\n",
        "  * **click** 1 if the impression was clicked, 0 otherwise\n",
        "  *\t**click_pos** the position of the click before a conversion (0 for first-click)\n",
        "  * **click_nb** number of clicks. More than 1 if there was several clicks before a conversion\n",
        "  * **cost** the price paid by Criteo for this display (**disclaimer:** not the real price, only a transformed version of it)\n",
        "  *\t **cpo** the cost-per-order  in case of attributed conversion (**disclaimer:** not the real price, only a transformed version of it)\n",
        "  * **time\\_since\\_last\\_click** the time since the last click (in s) for the given impression\n",
        "  *\t **cat[1-9]** contextual features associated to the display. Can be used to learn the click/conversion models. We do not disclose the meaning of these features but it is not relevant for this study. Each column is a categorical variable. In the experiments, they are mapped to a fixed dimensionality space using the Hashing Trick (see paper for reference)."
      ]
    },
    {
      "cell_type": "markdown",
      "metadata": {
        "id": "7OyKztJFe7xS"
      },
      "source": [
        "\n",
        "\n",
        "# 1. Data Exploration\n",
        "\n",
        "\n",
        "\n",
        "\n"
      ]
    },
    {
      "cell_type": "code",
      "metadata": {
        "colab": {
          "base_uri": "https://localhost:8080/"
        },
        "id": "wbW4O1Bmfc7K",
        "outputId": "dd3daa11-293d-4f21-daa3-8dc97c2a5a23"
      },
      "source": [
        "pd.set_option('display.max_columns', None)\n",
        "df.head()\n",
        "df.shape\n",
        "df.dtypes\n",
        "# df.isnull().values.any()"
      ],
      "execution_count": 7,
      "outputs": [
        {
          "output_type": "execute_result",
          "data": {
            "text/plain": [
              "timestamp                  int64\n",
              "uid                        int64\n",
              "campaign                   int64\n",
              "conversion                 int64\n",
              "conversion_timestamp       int64\n",
              "conversion_id              int64\n",
              "attribution                int64\n",
              "click                      int64\n",
              "click_pos                  int64\n",
              "click_nb                   int64\n",
              "cost                     float64\n",
              "cpo                      float64\n",
              "time_since_last_click      int64\n",
              "cat1                       int64\n",
              "cat2                       int64\n",
              "cat3                       int64\n",
              "cat4                       int64\n",
              "cat5                       int64\n",
              "cat6                       int64\n",
              "cat7                       int64\n",
              "cat8                       int64\n",
              "cat9                       int64\n",
              "dtype: object"
            ]
          },
          "metadata": {
            "tags": []
          },
          "execution_count": 7
        }
      ]
    },
    {
      "cell_type": "code",
      "metadata": {
        "id": "9wAOw9hsfc4B"
      },
      "source": [
        "# df[(df['uid']== 7306395) & (df['campaign']== 29427842)]\n",
        "# a user can interact with the same campaign for more than one conversion"
      ],
      "execution_count": 8,
      "outputs": []
    },
    {
      "cell_type": "code",
      "metadata": {
        "id": "tpYfg3I2hDM0"
      },
      "source": [
        "# df.nunique()"
      ],
      "execution_count": 9,
      "outputs": []
    },
    {
      "cell_type": "code",
      "metadata": {
        "id": "wWyLijVafcyR"
      },
      "source": [
        "df['day'] = np.floor(df.timestamp / 86400.).astype(int)\n",
        "# df.head()\n",
        "# df[(df['uid']== 7306395) & (df['campaign']== 29427842)]"
      ],
      "execution_count": 10,
      "outputs": []
    },
    {
      "cell_type": "code",
      "metadata": {
        "id": "VoS8XIslfcrb"
      },
      "source": [
        "# df.click_pos.hist(bins = len(df.click_pos.unique()))"
      ],
      "execution_count": 11,
      "outputs": []
    },
    {
      "cell_type": "code",
      "metadata": {
        "id": "77UKpewOfchV"
      },
      "source": [
        "# df.click_nb.hist(bins = len(df.click_nb.unique()))"
      ],
      "execution_count": 12,
      "outputs": []
    },
    {
      "cell_type": "code",
      "metadata": {
        "id": "3z1zmvHYfcMN"
      },
      "source": [
        "# df.day.hist(bins=len(df.day.unique()))"
      ],
      "execution_count": 13,
      "outputs": []
    },
    {
      "cell_type": "markdown",
      "metadata": {
        "id": "bf6OuDggg61J"
      },
      "source": [
        "# 2. Data Manipulation\n"
      ]
    },
    {
      "cell_type": "code",
      "metadata": {
        "id": "4HaUl9pjfcJS"
      },
      "source": [
        "#the time diff between impression and conversion\n",
        "df['gap_click_sale'] = -1\n",
        "df.loc[df.conversion == 1, 'gap_click_sale'] = df.conversion_timestamp - df.timestamp\n",
        "# df['gap_click_sale_day'] = np.floor((df['gap_click_sale']/86400)).astype(int)"
      ],
      "execution_count": 14,
      "outputs": []
    },
    {
      "cell_type": "code",
      "metadata": {
        "id": "EKV4n4hCfcF1"
      },
      "source": [
        "# Attribution and the click on impression is the last click\n",
        "df['last_click'] = df.attribution * (df.click_pos == df.click_nb - 1).astype(int)\n",
        "# Attribution and the click on impression is the first click\n",
        "df['first_click'] = df.attribution * (df.click_pos == 0).astype(int)\n",
        "# Attribution only\n",
        "df['all_clicks'] = df.attribution\n",
        "# Attribution weighted by the weights\n",
        "df['uniform'] = df.attribution / (df.click_nb).astype(float)\n",
        "# df[(df['uid']== 7306395) & (df['campaign']== 29427842)]"
      ],
      "execution_count": 32,
      "outputs": []
    },
    {
      "cell_type": "code",
      "metadata": {
        "id": "2MDOrOHnfbq7"
      },
      "source": [
        "FEATURES = ['campaign', 'cat1', 'cat2', 'cat3', 'cat4', 'cat5', 'cat6', \n",
        "            'cat7', 'cat8']\n",
        "INFOS = ['cost', 'cpo', 'time_since_last_click', 'last_click', 'first_click', 'all_clicks', 'uniform']"
      ],
      "execution_count": 33,
      "outputs": []
    },
    {
      "cell_type": "markdown",
      "metadata": {
        "id": "BNIao1TYtX6_"
      },
      "source": [
        "# 3. Attribution Model\n"
      ]
    },
    {
      "cell_type": "code",
      "metadata": {
        "id": "x7UpkjIOfb-8"
      },
      "source": [
        "def bootstrap_method(data, sample_count, statistic, alpha):\n",
        "  # data = df['time_since_last_click']\n",
        "  # sample_count = 100\n",
        "  # statistic = np.mean\n",
        "  # alpha = 0.05\n",
        "  statitic_values = []\n",
        "  for x in range(0,sample_count):\n",
        "    sample = np.random.choice(np.array(data), len(np.array(data)), replace=True)\n",
        "    statistic_values.append(statitic(sample))\n",
        "  return (statistic_values[int((alpha/2)*sample_count)], statistic_values[int((1-alpha/2)*sample_count)] )  \n"
      ],
      "execution_count": 34,
      "outputs": []
    },
    {
      "cell_type": "code",
      "metadata": {
        "id": "ogFD6kjEfb1R"
      },
      "source": [
        "class weightedExp(nn.Module):\n",
        "  '''\n",
        "    A weighted exponential activation function\n",
        "  '''\n",
        "  def __init__(self, weight = 1e-3):\n",
        "    super().__init__()\n",
        "    self.weight = nn.Parameter(torch.tensor(weight))\n",
        "\n",
        "  def forward(self, input):\n",
        "    ex = torch.exp(-1*self.weight*input)\n",
        "    return (ex)\n",
        "\n",
        "\n",
        "def nllh_loss(input, pred, target, lambd):\n",
        "  '''\n",
        "    Implments NLLH loss as mentioned in the paper\n",
        "  '''\n",
        "  nllh = (target*input*lambd) - ((1-target)*torch.log(1 - pred))\n",
        "  nllhsum = nllh.sum()\n",
        "\n",
        "  return nllhsum / pred.data.nelement()"
      ],
      "execution_count": 15,
      "outputs": []
    },
    {
      "cell_type": "code",
      "metadata": {
        "id": "9nnIMHq03W42"
      },
      "source": [
        "def optize_lambda(tts, attribution, verbose = False):\n",
        "  x_data = Variable(torch.Tensor(tts))\n",
        "  y_data = Variable(torch.Tensor(attribution))\n",
        "  learning_rate = 0.0001\n",
        "  epochs = 10\n",
        "  model = weightedExp()\n",
        "  # criterion = nllh_loss()\n",
        "  optimizer = torch.optim.Adam(model.parameters(), lr=learning_rate)\n",
        "\n",
        "  for epoch in range(0,epochs):\n",
        "    model.train()\n",
        "    optimizer.zero_grad()\n",
        "\n",
        "    pred = model(x_data)\n",
        "    loss = nllh_loss(x_data, pred, y_data, model.weight)\n",
        "    loss.backward()\n",
        "    optimizer.step()\n",
        "    if verbose:\n",
        "      print( \"Epoch:\", epoch)\n",
        "      print( \"Lambda:\", model.weight)\n",
        "  \n",
        "  return model.weight.item()"
      ],
      "execution_count": 48,
      "outputs": []
    },
    {
      "cell_type": "code",
      "metadata": {
        "colab": {
          "base_uri": "https://localhost:8080/"
        },
        "id": "rPjpbY4Vx2SE",
        "outputId": "67f5530c-9c46-4abe-f517-73bc69d2a18f"
      },
      "source": [
        "df_view = df\n",
        "df_view.shape"
      ],
      "execution_count": 16,
      "outputs": [
        {
          "output_type": "execute_result",
          "data": {
            "text/plain": [
              "(16468027, 24)"
            ]
          },
          "metadata": {
            "tags": []
          },
          "execution_count": 16
        }
      ]
    },
    {
      "cell_type": "code",
      "metadata": {
        "colab": {
          "base_uri": "https://localhost:8080/"
        },
        "id": "-Vofr4Q6xd1R",
        "outputId": "d0260074-6139-4e30-edfe-581a25ba79b5"
      },
      "source": [
        "test_day =20\n",
        "learning_duration = 21\n",
        "df_train = df_view[(df_view.day >= test_day - learning_duration) & (df_view.day < test_day)]\n",
        "df_conv = df_train[df_train.click_pos == df_train.click_nb - 1]\n",
        "#only finding the chance of conversion given the time since last click\n",
        "x = df_conv.gap_click_sale.values\n",
        "\n",
        "y = df_conv.attribution.values \n",
        "\n",
        "lamb = optize_lambda(x, y)\n",
        "lamb\n"
      ],
      "execution_count": 49,
      "outputs": [
        {
          "output_type": "execute_result",
          "data": {
            "text/plain": [
              "1.8000719137489796e-07"
            ]
          },
          "metadata": {
            "tags": []
          },
          "execution_count": 49
        }
      ]
    },
    {
      "cell_type": "code",
      "metadata": {
        "id": "mTftbMuOfbdn"
      },
      "source": [
        ""
      ],
      "execution_count": null,
      "outputs": []
    },
    {
      "cell_type": "code",
      "metadata": {
        "id": "I7BAjlURe6fz"
      },
      "source": [
        ""
      ],
      "execution_count": null,
      "outputs": []
    },
    {
      "cell_type": "code",
      "metadata": {
        "id": "i48chqV4ev1R"
      },
      "source": [
        "df_view = df\n",
        "df_view.shape"
      ],
      "execution_count": null,
      "outputs": []
    },
    {
      "cell_type": "code",
      "metadata": {
        "id": "cgqLcAwXe3Z-"
      },
      "source": [
        ""
      ],
      "execution_count": null,
      "outputs": []
    },
    {
      "cell_type": "code",
      "metadata": {
        "colab": {
          "base_uri": "https://localhost:8080/"
        },
        "id": "JLpmWLCe-j_r",
        "outputId": "228a495d-89eb-43ed-f9a0-043ff4d139f9"
      },
      "source": [
        "target = torch.randn(1, 5)\n",
        "target\n",
        "nn.Linear( 2)"
      ],
      "execution_count": null,
      "outputs": [
        {
          "output_type": "execute_result",
          "data": {
            "text/plain": [
              "tensor([[-1.1169, -0.5487,  1.2370, -1.4270,  0.6613]])"
            ]
          },
          "metadata": {
            "tags": []
          },
          "execution_count": 29
        }
      ]
    },
    {
      "cell_type": "code",
      "metadata": {
        "id": "RAASbRJd78IV"
      },
      "source": [
        ""
      ],
      "execution_count": null,
      "outputs": []
    },
    {
      "cell_type": "code",
      "metadata": {
        "colab": {
          "base_uri": "https://localhost:8080/",
          "height": 238
        },
        "id": "LkCkfI_70e41",
        "outputId": "e1a2106d-ebe1-4514-c9e9-f94ee7dd8a47"
      },
      "source": [
        "def my_loss(output, target):\n",
        "    loss = torch.mean((output - target)**2)\n",
        "    return loss\n",
        "\n",
        "model = nn.Linear(2, 2)\n",
        "x = torch.randn(1, 2)\n",
        "target = torch.randn(1, 2)\n",
        "print (target)\n",
        "\n",
        "for i in range(0,100):\n",
        "  output = model(x)\n",
        "  loss = my_loss(output, target)\n",
        "  loss.backward()\n",
        "  print(model.weight.grad)\n",
        "  print(output)\n",
        "  print(\"\"\"------------------\"\"\")"
      ],
      "execution_count": null,
      "outputs": [
        {
          "output_type": "error",
          "ename": "TypeError",
          "evalue": "ignored",
          "traceback": [
            "\u001b[0;31m---------------------------------------------------------------------------\u001b[0m",
            "\u001b[0;31mTypeError\u001b[0m                                 Traceback (most recent call last)",
            "\u001b[0;32m<ipython-input-19-61ef298c5981>\u001b[0m in \u001b[0;36m<module>\u001b[0;34m()\u001b[0m\n\u001b[1;32m      3\u001b[0m     \u001b[0;32mreturn\u001b[0m \u001b[0mloss\u001b[0m\u001b[0;34m\u001b[0m\u001b[0;34m\u001b[0m\u001b[0m\n\u001b[1;32m      4\u001b[0m \u001b[0;34m\u001b[0m\u001b[0m\n\u001b[0;32m----> 5\u001b[0;31m \u001b[0mmodel\u001b[0m \u001b[0;34m=\u001b[0m \u001b[0mtorch\u001b[0m\u001b[0;34m.\u001b[0m\u001b[0mexp\u001b[0m\u001b[0;34m(\u001b[0m\u001b[0;36m2\u001b[0m\u001b[0;34m,\u001b[0m \u001b[0;36m2\u001b[0m\u001b[0;34m)\u001b[0m\u001b[0;34m\u001b[0m\u001b[0;34m\u001b[0m\u001b[0m\n\u001b[0m\u001b[1;32m      6\u001b[0m \u001b[0mx\u001b[0m \u001b[0;34m=\u001b[0m \u001b[0mtorch\u001b[0m\u001b[0;34m.\u001b[0m\u001b[0mrandn\u001b[0m\u001b[0;34m(\u001b[0m\u001b[0;36m1\u001b[0m\u001b[0;34m,\u001b[0m \u001b[0;36m2\u001b[0m\u001b[0;34m)\u001b[0m\u001b[0;34m\u001b[0m\u001b[0;34m\u001b[0m\u001b[0m\n\u001b[1;32m      7\u001b[0m \u001b[0mtarget\u001b[0m \u001b[0;34m=\u001b[0m \u001b[0mtorch\u001b[0m\u001b[0;34m.\u001b[0m\u001b[0mrandn\u001b[0m\u001b[0;34m(\u001b[0m\u001b[0;36m1\u001b[0m\u001b[0;34m,\u001b[0m \u001b[0;36m2\u001b[0m\u001b[0;34m)\u001b[0m\u001b[0;34m\u001b[0m\u001b[0;34m\u001b[0m\u001b[0m\n",
            "\u001b[0;31mTypeError\u001b[0m: exp() takes 1 positional argument but 2 were given"
          ]
        }
      ]
    },
    {
      "cell_type": "code",
      "metadata": {
        "colab": {
          "base_uri": "https://localhost:8080/"
        },
        "id": "H8-waoR4xb3r",
        "outputId": "c354881b-7730-4c79-8233-19ae10df0d47"
      },
      "source": [
        "linear = nn.Linear(32,32)\n",
        "linear.eval()\n",
        "N = 10000\n",
        "X = torch.Tensor(N,32)\n",
        "X\n",
        "X.uniform_(0.,1.) # fill with uniform\n",
        "eps = torch.Tensor(N,32)\n",
        "eps.normal_(0., 1e-4)"
      ],
      "execution_count": null,
      "outputs": [
        {
          "output_type": "execute_result",
          "data": {
            "text/plain": [
              "tensor([[ 3.2677e-04, -8.5151e-05,  8.8565e-05,  ...,  1.8070e-05,\n",
              "         -1.3338e-04,  1.0421e-04],\n",
              "        [ 6.6139e-05, -6.7598e-05,  1.2029e-04,  ..., -4.9602e-05,\n",
              "         -1.0679e-04, -1.4397e-05],\n",
              "        [-1.6079e-06,  4.5771e-05,  9.1935e-06,  ..., -5.7660e-05,\n",
              "          4.2277e-05, -1.2497e-04],\n",
              "        ...,\n",
              "        [ 1.0018e-04,  8.6189e-05,  9.1666e-05,  ...,  1.4094e-04,\n",
              "         -6.0664e-06, -5.1858e-05],\n",
              "        [-6.6125e-05, -2.0828e-05, -1.2292e-04,  ..., -1.0999e-05,\n",
              "         -1.0814e-04, -2.2227e-05],\n",
              "        [-8.3657e-05, -1.0671e-04, -8.0610e-05,  ...,  3.6681e-05,\n",
              "         -7.1518e-05, -6.3484e-05]])"
            ]
          },
          "metadata": {
            "tags": []
          },
          "execution_count": 7
        }
      ]
    },
    {
      "cell_type": "code",
      "metadata": {
        "colab": {
          "base_uri": "https://localhost:8080/"
        },
        "id": "rk-xQysFz5BN",
        "outputId": "76c56b75-f647-404f-a96f-d175c00a90d9"
      },
      "source": [
        "torch.randn(3, 2)\n"
      ],
      "execution_count": null,
      "outputs": [
        {
          "output_type": "execute_result",
          "data": {
            "text/plain": [
              "tensor([[ 0.1750,  0.1834],\n",
              "        [-0.9367,  0.0185],\n",
              "        [ 0.6374, -0.1721]])"
            ]
          },
          "metadata": {
            "tags": []
          },
          "execution_count": 10
        }
      ]
    },
    {
      "cell_type": "code",
      "metadata": {
        "id": "8oF6tvrpxUzn"
      },
      "source": [
        "linear = nn.Linear(32,32)\n",
        "linear = linear.eval()\n",
        "\n",
        "# input X\n",
        "N = 10000\n",
        "X = torch.Tensor(N,32)\n",
        "X.uniform_(0.,1.) # fill with uniform\n",
        "eps = torch.Tensor(N,32)\n",
        "eps.normal_(0., 1e-4)\n",
        "\n",
        "# output Y\n",
        "with torch.no_grad():\n",
        "    Y = linear(X) #+ eps\n",
        "\n",
        "# make module executing the experiment\n",
        "class Objective(nn.Module):\n",
        "    def __init__(self):\n",
        "        super(Objective, self).__init__()\n",
        "        self.linear = nn.Linear(32,32)\n",
        "        self.linear = self.linear.train()\n",
        "        self.X, self.Y = X, Y\n",
        "\n",
        "    def forward(self):\n",
        "        output = self.linear(self.X)\n",
        "        return F.mse_loss(output, self.Y).mean()\n",
        "\n",
        "objective = Objective()\n",
        "\n",
        "maxiter = 100\n",
        "with tqdm(total=maxiter) as pbar:\n",
        "    def verbose(xk):\n",
        "        pbar.update(1)\n",
        "    # try to optimize that function with scipy\n",
        "    obj = PyTorchObjective(objective)\n",
        "    xL = optimize.minimize(obj.fun, obj.x0, method='BFGS', jac=obj.jac,\n",
        "            callback=verbose, options={'gtol': 1e-6, 'disp': True,\n",
        "                'maxiter':maxiter})\n",
        "    #xL = optimize.minimize(obj.fun, obj.x0, method='CG', jac=obj.jac)# , options={'gtol': 1e-2})"
      ],
      "execution_count": null,
      "outputs": []
    }
  ]
}